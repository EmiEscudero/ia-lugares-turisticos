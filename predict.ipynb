{
 "cells": [
  {
   "cell_type": "code",
   "execution_count": 5,
   "metadata": {},
   "outputs": [],
   "source": [
    "import torch\n",
    "from torchvision import transforms\n",
    "from PIL import Image\n",
    "import pandas as pd\n",
    "import torch.nn as nn"
   ]
  },
  {
   "cell_type": "code",
   "execution_count": 6,
   "metadata": {},
   "outputs": [],
   "source": [
    "# Transformaciones para los datos\n",
    "transform = transforms.Compose([\n",
    "    transforms.Resize((128, 128)),\n",
    "    transforms.ToTensor(),\n",
    "])"
   ]
  },
  {
   "cell_type": "code",
   "execution_count": 7,
   "metadata": {},
   "outputs": [],
   "source": [
    "# Cargar los datos de etiquetas\n",
    "labels_data = pd.read_csv('labels.csv')\n",
    "\n",
    "# Función para obtener detalles del lugar\n",
    "def get_location_details(category, subcategory):\n",
    "    location = labels_data[(labels_data['category'] == category) & (labels_data['subcategory'] == subcategory)]\n",
    "    if not location.empty:\n",
    "        name = location['name'].values[0]\n",
    "        state = location['state'].values[0]\n",
    "        return name, state\n",
    "    return None, None"
   ]
  },
  {
   "cell_type": "code",
   "execution_count": 8,
   "metadata": {},
   "outputs": [],
   "source": [
    "# Red neuronal convolucional\n",
    "class CNN(nn.Module):\n",
    "    def __init__(self, num_classes_main, num_classes_secondary):\n",
    "        super(CNN, self).__init__()\n",
    "        self.conv1 = nn.Conv2d(3, 16, kernel_size=3, padding=1)\n",
    "        self.pool = nn.MaxPool2d(2, 2)\n",
    "        self.conv2 = nn.Conv2d(16, 32, kernel_size=3, padding=1)\n",
    "        self.conv3 = nn.Conv2d(32, 64, kernel_size=3, padding=1)\n",
    "        self.fc1 = nn.Linear(64 * 16 * 16, 512)\n",
    "        self.fc2 = nn.Linear(512, num_classes_main)\n",
    "        self.fc3_playa = nn.Linear(512, num_classes_secondary[0])\n",
    "        self.fc3_pueblo = nn.Linear(512, num_classes_secondary[1])\n",
    "\n",
    "    def forward(self, x):\n",
    "        x = self.pool(torch.relu(self.conv1(x)))\n",
    "        x = self.pool(torch.relu(self.conv2(x)))\n",
    "        x = self.pool(torch.relu(self.conv3(x)))\n",
    "        x = x.view(-1, 64 * 16 * 16)\n",
    "        x = torch.relu(self.fc1(x))\n",
    "        main_out = self.fc2(x)\n",
    "        playa_out = self.fc3_playa(x)\n",
    "        pueblo_out = self.fc3_pueblo(x)\n",
    "        return main_out, playa_out, pueblo_out"
   ]
  },
  {
   "cell_type": "code",
   "execution_count": 9,
   "metadata": {},
   "outputs": [
    {
     "data": {
      "text/plain": [
       "CNN(\n",
       "  (conv1): Conv2d(3, 16, kernel_size=(3, 3), stride=(1, 1), padding=(1, 1))\n",
       "  (pool): MaxPool2d(kernel_size=2, stride=2, padding=0, dilation=1, ceil_mode=False)\n",
       "  (conv2): Conv2d(16, 32, kernel_size=(3, 3), stride=(1, 1), padding=(1, 1))\n",
       "  (conv3): Conv2d(32, 64, kernel_size=(3, 3), stride=(1, 1), padding=(1, 1))\n",
       "  (fc1): Linear(in_features=16384, out_features=512, bias=True)\n",
       "  (fc2): Linear(in_features=512, out_features=2, bias=True)\n",
       "  (fc3_playa): Linear(in_features=512, out_features=356, bias=True)\n",
       "  (fc3_pueblo): Linear(in_features=512, out_features=131, bias=True)\n",
       ")"
      ]
     },
     "execution_count": 9,
     "metadata": {},
     "output_type": "execute_result"
    }
   ],
   "source": [
    "# Inicializar el modelo y cargar los pesos guardados\n",
    "num_playa_classes = 356  # Número de subcategorías para playas\n",
    "num_pueblo_classes = 131  # Número de subcategorías para pueblos\n",
    "\n",
    "model = CNN(num_classes_main=2, num_classes_secondary=(num_playa_classes, num_pueblo_classes))\n",
    "model.load_state_dict(torch.load('modeloCNN.pth'))\n",
    "model.eval()"
   ]
  },
  {
   "cell_type": "code",
   "execution_count": 10,
   "metadata": {},
   "outputs": [],
   "source": [
    "# Función para predecir la imagen\n",
    "def predict_image(image_path):\n",
    "    image = Image.open(image_path).convert('RGB')\n",
    "    image = transform(image).unsqueeze(0)  # Preprocesar la imagen\n",
    "\n",
    "    with torch.no_grad():\n",
    "        main_output, playa_output, pueblo_output = model(image)\n",
    "        _, main_pred = torch.max(main_output, 1)\n",
    "\n",
    "        if main_pred.item() == 0:\n",
    "            _, secondary_pred = torch.max(playa_output, 1)\n",
    "        else:\n",
    "            _, secondary_pred = torch.max(pueblo_output, 1)\n",
    "\n",
    "    return main_pred.item(), secondary_pred.item()\n"
   ]
  },
  {
   "cell_type": "code",
   "execution_count": 18,
   "metadata": {},
   "outputs": [
    {
     "name": "stdout",
     "output_type": "stream",
     "text": [
      "PUEBLO MÁGICO\n",
      "Lugar: ZACATLAN DE LAS MANZANAS, Estado: PUEBLA\n"
     ]
    }
   ],
   "source": [
    "# Realizar predicción\n",
    "image_path = 'Z:/Emiliano/Desktop/manza.png'\n",
    "category, subcategory = predict_image(image_path)\n",
    "name, state = get_location_details(category, subcategory)\n",
    "if(category!=0):\n",
    "    print(\"PUEBLO MÁGICO\")\n",
    "else:\n",
    "    print(\"PLAYA\")\n",
    "\n",
    "print(f\"Lugar: {name}, Estado: {state}\")"
   ]
  }
 ],
 "metadata": {
  "kernelspec": {
   "display_name": "Python 3",
   "language": "python",
   "name": "python3"
  },
  "language_info": {
   "codemirror_mode": {
    "name": "ipython",
    "version": 3
   },
   "file_extension": ".py",
   "mimetype": "text/x-python",
   "name": "python",
   "nbconvert_exporter": "python",
   "pygments_lexer": "ipython3",
   "version": "3.12.2"
  }
 },
 "nbformat": 4,
 "nbformat_minor": 2
}
